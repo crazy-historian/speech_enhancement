{
 "cells": [
  {
   "cell_type": "code",
   "execution_count": 4,
   "metadata": {},
   "outputs": [
    {
     "name": "stdout",
     "output_type": "stream",
     "text": [
      "Requirement already satisfied: setuptools in c:\\users\\bogdan\\appdata\\local\\programs\\python\\python311\\lib\\site-packages (65.5.0)\n"
     ]
    },
    {
     "name": "stderr",
     "output_type": "stream",
     "text": [
      "\n",
      "[notice] A new release of pip is available: 23.1.2 -> 24.2\n",
      "[notice] To update, run: python.exe -m pip install --upgrade pip\n"
     ]
    }
   ],
   "source": [
    "!pip install torchaudio == 2.2.0\n"
   ]
  },
  {
   "cell_type": "markdown",
   "metadata": {},
   "source": [
    "# VADs testings"
   ]
  },
  {
   "cell_type": "code",
   "execution_count": 14,
   "metadata": {},
   "outputs": [],
   "source": [
    "import numpy as np\n",
    "import torchaudio\n",
    "import matplotlib.pyplot as plt\n",
    "from scipy import signal"
   ]
  },
  {
   "cell_type": "code",
   "execution_count": 15,
   "metadata": {},
   "outputs": [
    {
     "name": "stderr",
     "output_type": "stream",
     "text": [
      "c:\\Users\\Bogdan\\AppData\\Local\\Programs\\Python\\Python311\\Lib\\site-packages\\tqdm\\auto.py:21: TqdmWarning: IProgress not found. Please update jupyter and ipywidgets. See https://ipywidgets.readthedocs.io/en/stable/user_install.html\n",
      "  from .autonotebook import tqdm as notebook_tqdm\n",
      "c:\\Users\\Bogdan\\AppData\\Local\\Programs\\Python\\Python311\\Lib\\inspect.py:992: UserWarning: Module 'speechbrain.pretrained' was deprecated, redirecting to 'speechbrain.inference'. Please update your script. This is a change from SpeechBrain 1.0. See: https://github.com/speechbrain/speechbrain/releases/tag/v1.0.0\n",
      "  if ismodule(module) and hasattr(module, '__file__'):\n",
      "C:\\Users\\Bogdan\\AppData\\Local\\Temp\\ipykernel_15972\\990377766.py:10: UserWarning: Module 'speechbrain.pretrained' was deprecated, redirecting to 'speechbrain.inference'. Please update your script. This is a change from SpeechBrain 1.0. See: https://github.com/speechbrain/speechbrain/releases/tag/v1.0.0\n",
      "  from speechbrain.pretrained import VAD as SpeechBrainVAD\n"
     ]
    }
   ],
   "source": [
    "import torch\n",
    "import torchaudio\n",
    "import librosa\n",
    "import numpy as np\n",
    "import webrtcvad\n",
    "from scipy.signal import find_peaks\n",
    "\n",
    "# Опционально: Проверяем доступность SpeechBrain и OpenVINO\n",
    "try:\n",
    "    from speechbrain.pretrained import VAD as SpeechBrainVAD\n",
    "except ImportError:\n",
    "    print('cant import SpeechBrainVAD')\n",
    "    SpeechBrainVAD = None\n",
    "\n",
    "try:\n",
    "    from openvino.runtime import Core\n",
    "except ImportError:\n",
    "    print('cant import openvino')\n",
    "    Core = None\n"
   ]
  },
  {
   "cell_type": "code",
   "execution_count": 126,
   "metadata": {},
   "outputs": [],
   "source": [
    "\n",
    "class VADInterface:\n",
    "    def __init__(self, model_type=\"webrtc\", aggressiveness=3):\n",
    "        self.model_type = model_type\n",
    "\n",
    "        if model_type == \"webrtc\":\n",
    "            self.vad = webrtcvad.Vad(aggressiveness)\n",
    "        elif model_type == \"silero\":\n",
    "            self.model, _ = torch.hub.load('snakers4/silero-vad', 'silero_vad')\n",
    "        elif model_type == \"torchaudio\":\n",
    "            pass  # Используем torchaudio.functional.vad напрямую\n",
    "        elif model_type == \"librosa\":\n",
    "            pass  # Не требуется загрузка модели\n",
    "        elif model_type == \"speechbrain\" and SpeechBrainVAD:\n",
    "            self.model = SpeechBrainVAD.from_hparams(\n",
    "                source=\"speechbrain/vad-crdnn-libriparty\", savedir=\"tmp\"\n",
    "            )\n",
    "        elif model_type == \"openvino\" and Core:\n",
    "            self.core = Core()\n",
    "            self.model = self.core.read_model(\"vad_model.xml\")  # Укажите путь к вашей модели\n",
    "            self.compiled_model = self.core.compile_model(self.model, \"CPU\")\n",
    "        else:\n",
    "            raise ValueError(f\"Unsupported or unavailable VAD type: {model_type}\")\n",
    "\n",
    "    def apply_vad(self, waveform, sample_rate):\n",
    "        if self.model_type == \"webrtc\":\n",
    "            return self._webrtc_vad(waveform, sample_rate)\n",
    "        elif self.model_type == \"silero\":\n",
    "            return self._silero_vad(waveform, sample_rate)\n",
    "        elif self.model_type == \"torchaudio\":\n",
    "            return torchaudio.functional.vad(waveform, sample_rate)\n",
    "        elif self.model_type == \"librosa\":\n",
    "            return self._librosa_vad(waveform, sample_rate)\n",
    "        elif self.model_type == \"speechbrain\":\n",
    "            return self._speechbrain_vad(\"audio.wav\")  # SpeechBrain работает с файлами\n",
    "        elif self.model_type == \"openvino\":\n",
    "            return self._openvino_vad(waveform)\n",
    "\n",
    "    def _webrtc_vad(self, waveform, sample_rate):\n",
    "        frame_size = int(sample_rate * 0.02)  # 20ms frames\n",
    "        return torch.cat([\n",
    "            waveform[:, i:i + frame_size]\n",
    "            for i in range(0, waveform.shape[1], frame_size)\n",
    "            if self.vad.is_speech(waveform[:, i:i + frame_size].numpy().tobytes(), sample_rate)\n",
    "        ], dim=1)\n",
    "\n",
    "    def _silero_vad(self, waveform, sample_rate):\n",
    "        waveform=waveform[0]\n",
    "        ub = (len(waveform) // 512)*512\n",
    "        full = []\n",
    "        for i in range(0, len(waveform[:ub]), 512):\n",
    "            res = self.model(waveform[i:i+512], 16000)\n",
    "            full += [res.detach().numpy()]*512\n",
    "        print(len(full))\n",
    "        print(ub)\n",
    "        print(len(waveform))\n",
    "        print(waveform.shape)\n",
    "        speech_probs = np.array(full)[:,0, 0]\n",
    "        print(speech_probs.shape)\n",
    "        mask = speech_probs > 0.5\n",
    "        return waveform[:ub][mask]\n",
    "\n",
    "    def _librosa_vad(self, waveform, sample_rate):\n",
    "        \"\"\"Простая реализация VAD с использованием RMS энергии.\"\"\"\n",
    "        energy = librosa.feature.rms(y=waveform.numpy().flatten())\n",
    "        threshold = np.mean(energy) * 0.5  # Эвристический порог\n",
    "        mask = energy.flatten() > threshold\n",
    "        peaks, _ = find_peaks(mask)  # Находим интервалы активной речи\n",
    "        return waveform[:, peaks]\n",
    "\n",
    "    def _speechbrain_vad(self, filepath):\n",
    "        \"\"\"VAD с использованием SpeechBrain.\"\"\"\n",
    "        boundaries = self.model.get_speech_segments(filepath)\n",
    "        print(f\"Speech segments: {boundaries}\")\n",
    "        return boundaries\n",
    "\n",
    "    def _openvino_vad(self, waveform):\n",
    "        \"\"\"VAD с использованием OpenVINO.\"\"\"\n",
    "        inputs = {self.model.inputs[0]: waveform.numpy()}\n",
    "        result = self.compiled_model(inputs)[self.model.outputs[0]]\n",
    "        mask = result.squeeze() > 0.5  # Бинаризуем результаты\n",
    "        return waveform[:, mask]\n",
    "\n",
    "\n",
    "\n",
    "def plot_waveforms(original, processed_list, sample_rate, labels):\n",
    "    \"\"\"Визуализирует оригинальное и обработанное аудио.\"\"\"\n",
    "    plt.figure(figsize=(12, 6))\n",
    "    time = np.linspace(0, len(original[0]) / sample_rate, len(original[0]))\n",
    "\n",
    "    plt.plot(time, original[0].numpy(), label=\"Original\", alpha=0.6)\n",
    "    for processed, label in zip(processed_list, labels):\n",
    "        plt.plot(time[:len(processed[0])], processed[0].numpy(), label=label, alpha=0.6)\n",
    "\n",
    "    plt.legend()\n",
    "    plt.title(\"VAD Comparison\")\n",
    "    plt.xlabel(\"Time (s)\")\n",
    "    plt.ylabel(\"Amplitude\")\n",
    "    plt.show()\n",
    "\n",
    "\n",
    "\n"
   ]
  },
  {
   "cell_type": "code",
   "execution_count": 17,
   "metadata": {},
   "outputs": [],
   "source": [
    "import numpy as np\n",
    "import torchaudio\n",
    "import matplotlib.pyplot as plt\n",
    "from scipy import signal\n",
    "\n",
    "def load_audio(filepath):\n",
    "    \"\"\"Load audio using torchaudio.\"\"\"\n",
    "    waveform, sample_rate = torchaudio.load(filepath)\n",
    "    return waveform, sample_rate\n",
    "\n",
    "def add_white_noise(waveform, noise_factor=0.005):\n",
    "    \"\"\"Add white noise to the waveform.\"\"\"\n",
    "    noise = np.random.normal(0, noise_factor, waveform.shape)\n",
    "    return waveform + torch.from_numpy(noise).float()\n",
    "\n",
    "def add_pink_noise(waveform, noise_factor=0.005):\n",
    "    \"\"\"Add pink noise to the waveform.\"\"\"\n",
    "    n_samples = waveform.shape[1]\n",
    "    uneven = n_samples % 2\n",
    "    X = np.random.randn(n_samples // 2 + 1 + uneven) + 1j * np.random.randn(n_samples // 2 + 1 + uneven)\n",
    "    S = np.sqrt(np.arange(len(X)) + 1.)  # 1/f frequency scaling\n",
    "    y = (np.fft.irfft(X / S)).real\n",
    "    pink_noise = np.tile(y[:n_samples], (waveform.shape[0], 1))\n",
    "    return waveform + noise_factor * torch.from_numpy(pink_noise).float()\n",
    "\n",
    "def add_brown_noise(waveform, noise_factor=0.005):\n",
    "    \"\"\"Add brown noise to the waveform.\"\"\"\n",
    "    n = np.cumsum(np.random.randn(waveform.shape[1]))  # Brownian motion\n",
    "    brown_noise = n / np.max(np.abs(n))  # Normalize\n",
    "    return waveform + noise_factor * torch.from_numpy(brown_noise).float()\n",
    "\n",
    "def add_gaussian_noise(waveform, noise_factor=0.005):\n",
    "    \"\"\"Add Gaussian noise to the waveform.\"\"\"\n",
    "    noise = np.random.normal(0, noise_factor, waveform.shape)\n",
    "    return waveform + torch.from_numpy(noise).float()\n",
    "\n",
    "def plot_waveforms(original, noisy, sample_rate, title):\n",
    "    \"\"\"Plot original and noisy audio signals.\"\"\"\n",
    "    plt.figure(figsize=(12, 4))\n",
    "    time = np.linspace(0, len(original[0]) / sample_rate, len(original[0]))\n",
    "\n",
    "    plt.plot(time, original[0].numpy(), label=\"Original\", alpha=0.6)\n",
    "    plt.plot(time, noisy[0].numpy(), label=\"Noisy\", alpha=0.6)\n",
    "    plt.legend()\n",
    "    plt.title(title)\n",
    "    plt.xlabel(\"Time (s)\")\n",
    "    plt.ylabel(\"Amplitude\")\n",
    "    plt.show()\n",
    "\n",
    "def test_noise():\n",
    "    # Load an audio file\n",
    "    original, sample_rate = load_audio(\"original.wav\")\n",
    "\n",
    "    # Add various types of noise\n",
    "    noisy_white = add_white_noise(original, noise_factor=0.01)\n",
    "    noisy_pink = add_pink_noise(original, noise_factor=0.01)\n",
    "    noisy_brown = add_brown_noise(original, noise_factor=0.01)\n",
    "    noisy_gaussian = add_gaussian_noise(original, noise_factor=0.01)\n",
    "\n",
    "    # Plot the results for comparison\n",
    "    plot_waveforms(original, noisy_white, sample_rate, \"White Noise\")\n",
    "    plot_waveforms(original, noisy_pink, sample_rate, \"Pink Noise\")\n",
    "    plot_waveforms(original, noisy_brown, sample_rate, \"Brown Noise\")\n",
    "    plot_waveforms(original, noisy_gaussian, sample_rate, \"Gaussian Noise\")\n"
   ]
  },
  {
   "cell_type": "code",
   "execution_count": 18,
   "metadata": {},
   "outputs": [],
   "source": [
    "import os \n",
    "import torchaudio"
   ]
  },
  {
   "cell_type": "code",
   "execution_count": 19,
   "metadata": {},
   "outputs": [
    {
     "data": {
      "text/plain": [
       "<module 'torchaudio' from 'c:\\\\Users\\\\Bogdan\\\\AppData\\\\Local\\\\Programs\\\\Python\\\\Python311\\\\Lib\\\\site-packages\\\\torchaudio\\\\__init__.py'>"
      ]
     },
     "execution_count": 19,
     "metadata": {},
     "output_type": "execute_result"
    }
   ],
   "source": [
    "import importlib\n",
    "importlib.reload(torchaudio)"
   ]
  },
  {
   "cell_type": "code",
   "execution_count": 10,
   "metadata": {},
   "outputs": [
    {
     "data": {
      "text/plain": [
       "(tensor([[-0.0006, -0.0087, -0.0026,  ..., -0.0011, -0.0012, -0.0033]]), 16000)"
      ]
     },
     "execution_count": 10,
     "metadata": {},
     "output_type": "execute_result"
    }
   ],
   "source": [
    "path = os.path.join(\"vinograd2.wav\")\n",
    "\n",
    "torchaudio.load(path)"
   ]
  },
  {
   "cell_type": "code",
   "execution_count": 128,
   "metadata": {},
   "outputs": [
    {
     "name": "stderr",
     "output_type": "stream",
     "text": [
      "Using cache found in C:\\Users\\Bogdan/.cache\\torch\\hub\\snakers4_silero-vad_master\n"
     ]
    },
    {
     "name": "stdout",
     "output_type": "stream",
     "text": [
      "60416\n",
      "60416\n",
      "60504\n",
      "torch.Size([60504])\n",
      "(60416,)\n"
     ]
    },
    {
     "ename": "TypeError",
     "evalue": "len() of a 0-d tensor",
     "output_type": "error",
     "traceback": [
      "\u001b[1;31m---------------------------------------------------------------------------\u001b[0m",
      "\u001b[1;31mTypeError\u001b[0m                                 Traceback (most recent call last)",
      "Cell \u001b[1;32mIn[128], line 25\u001b[0m\n\u001b[0;32m     21\u001b[0m labels \u001b[38;5;241m=\u001b[39m [\u001b[38;5;124m\"\u001b[39m\u001b[38;5;124mSilero\u001b[39m\u001b[38;5;124m\"\u001b[39m, \u001b[38;5;124m\"\u001b[39m\u001b[38;5;124mTorchaudio\u001b[39m\u001b[38;5;124m\"\u001b[39m, \u001b[38;5;124m\"\u001b[39m\u001b[38;5;124mLibrosa\u001b[39m\u001b[38;5;124m\"\u001b[39m]\n\u001b[0;32m     24\u001b[0m \u001b[38;5;66;03m# Визуализация результатов\u001b[39;00m\n\u001b[1;32m---> 25\u001b[0m \u001b[43mplot_waveforms\u001b[49m\u001b[43m(\u001b[49m\u001b[43moriginal\u001b[49m\u001b[43m,\u001b[49m\u001b[43m \u001b[49m\u001b[43mprocessed_list\u001b[49m\u001b[43m,\u001b[49m\u001b[43m \u001b[49m\u001b[43msample_rate\u001b[49m\u001b[43m,\u001b[49m\u001b[43m \u001b[49m\u001b[43mlabels\u001b[49m\u001b[43m)\u001b[49m\n",
      "Cell \u001b[1;32mIn[126], line 92\u001b[0m, in \u001b[0;36mplot_waveforms\u001b[1;34m(original, processed_list, sample_rate, labels)\u001b[0m\n\u001b[0;32m     90\u001b[0m plt\u001b[38;5;241m.\u001b[39mplot(time, original[\u001b[38;5;241m0\u001b[39m]\u001b[38;5;241m.\u001b[39mnumpy(), label\u001b[38;5;241m=\u001b[39m\u001b[38;5;124m\"\u001b[39m\u001b[38;5;124mOriginal\u001b[39m\u001b[38;5;124m\"\u001b[39m, alpha\u001b[38;5;241m=\u001b[39m\u001b[38;5;241m0.6\u001b[39m)\n\u001b[0;32m     91\u001b[0m \u001b[38;5;28;01mfor\u001b[39;00m processed, label \u001b[38;5;129;01min\u001b[39;00m \u001b[38;5;28mzip\u001b[39m(processed_list, labels):\n\u001b[1;32m---> 92\u001b[0m     plt\u001b[38;5;241m.\u001b[39mplot(time[:\u001b[38;5;28;43mlen\u001b[39;49m\u001b[43m(\u001b[49m\u001b[43mprocessed\u001b[49m\u001b[43m[\u001b[49m\u001b[38;5;241;43m0\u001b[39;49m\u001b[43m]\u001b[49m\u001b[43m)\u001b[49m], processed[\u001b[38;5;241m0\u001b[39m]\u001b[38;5;241m.\u001b[39mnumpy(), label\u001b[38;5;241m=\u001b[39mlabel, alpha\u001b[38;5;241m=\u001b[39m\u001b[38;5;241m0.6\u001b[39m)\n\u001b[0;32m     94\u001b[0m plt\u001b[38;5;241m.\u001b[39mlegend()\n\u001b[0;32m     95\u001b[0m plt\u001b[38;5;241m.\u001b[39mtitle(\u001b[38;5;124m\"\u001b[39m\u001b[38;5;124mVAD Comparison\u001b[39m\u001b[38;5;124m\"\u001b[39m)\n",
      "File \u001b[1;32mc:\\Users\\Bogdan\\AppData\\Local\\Programs\\Python\\Python311\\Lib\\site-packages\\torch\\_tensor.py:1021\u001b[0m, in \u001b[0;36mTensor.__len__\u001b[1;34m(self)\u001b[0m\n\u001b[0;32m   1019\u001b[0m     \u001b[38;5;28;01mreturn\u001b[39;00m handle_torch_function(Tensor\u001b[38;5;241m.\u001b[39m\u001b[38;5;21m__len__\u001b[39m, (\u001b[38;5;28mself\u001b[39m,), \u001b[38;5;28mself\u001b[39m)\n\u001b[0;32m   1020\u001b[0m \u001b[38;5;28;01mif\u001b[39;00m \u001b[38;5;28mself\u001b[39m\u001b[38;5;241m.\u001b[39mdim() \u001b[38;5;241m==\u001b[39m \u001b[38;5;241m0\u001b[39m:\n\u001b[1;32m-> 1021\u001b[0m     \u001b[38;5;28;01mraise\u001b[39;00m \u001b[38;5;167;01mTypeError\u001b[39;00m(\u001b[38;5;124m\"\u001b[39m\u001b[38;5;124mlen() of a 0-d tensor\u001b[39m\u001b[38;5;124m\"\u001b[39m)\n\u001b[0;32m   1022\u001b[0m \u001b[38;5;28;01mif\u001b[39;00m torch\u001b[38;5;241m.\u001b[39m_C\u001b[38;5;241m.\u001b[39m_get_tracing_state():\n\u001b[0;32m   1023\u001b[0m     warnings\u001b[38;5;241m.\u001b[39mwarn(\n\u001b[0;32m   1024\u001b[0m         \u001b[38;5;124m\"\u001b[39m\u001b[38;5;124mUsing len to get tensor shape might cause the trace to be incorrect. \u001b[39m\u001b[38;5;124m\"\u001b[39m\n\u001b[0;32m   1025\u001b[0m         \u001b[38;5;124m\"\u001b[39m\u001b[38;5;124mRecommended usage would be tensor.shape[0]. \u001b[39m\u001b[38;5;124m\"\u001b[39m\n\u001b[1;32m   (...)\u001b[0m\n\u001b[0;32m   1029\u001b[0m         stacklevel\u001b[38;5;241m=\u001b[39m\u001b[38;5;241m2\u001b[39m,\n\u001b[0;32m   1030\u001b[0m     )\n",
      "\u001b[1;31mTypeError\u001b[0m: len() of a 0-d tensor"
     ]
    },
    {
     "data": {
      "image/png": "[encoded data removed]",
      "text/plain": [
       "<Figure size 1200x600 with 1 Axes>"
      ]
     },
     "metadata": {},
     "output_type": "display_data"
    }
   ],
   "source": [
    "path = os.path.join(\"vinograd2.wav\")\n",
    "\n",
    "original, sample_rate = load_audio(path) #waveform, sample_rate\n",
    "noisy = add_pink_noise(original, noise_factor=0.005)\n",
    "\n",
    "\n",
    "# Инициализация и применение VAD для разных моделей\n",
    "#vad_webrtc = VADInterface(model_type=\"webrtc\")\n",
    "vad_silero = VADInterface(model_type=\"silero\")\n",
    "vad_torchaudio = VADInterface(model_type=\"torchaudio\")\n",
    "vad_librosa = VADInterface(model_type=\"librosa\")\n",
    "#vad_speechbrain = VADInterface(model_type=\"speechbrain\") if SpeechBrainVAD else None\n",
    "\n",
    "#processed_webrtc = vad_webrtc.apply_vad(original, sample_rate)\n",
    "processed_silero = vad_silero.apply_vad(original, sample_rate)\n",
    "processed_torchaudio = vad_torchaudio.apply_vad(original, sample_rate)\n",
    "processed_librosa = vad_librosa.apply_vad(original, sample_rate)\n",
    "\n",
    "# Список обработанных сигналов и их меток\n",
    "processed_list = [ processed_silero, processed_torchaudio, processed_librosa]\n",
    "labels = [\"Silero\", \"Torchaudio\", \"Librosa\"]\n",
    "\n",
    "\n",
    "# Визуализация результатов\n",
    "plot_waveforms(original, processed_list, sample_rate, labels)"
   ]
  },
  {
   "cell_type": "code",
   "execution_count": 35,
   "metadata": {},
   "outputs": [
    {
     "name": "stderr",
     "output_type": "stream",
     "text": [
      "Using cache found in C:\\Users\\Bogdan/.cache\\torch\\hub\\snakers4_silero-vad_master\n"
     ]
    }
   ],
   "source": [
    "silero_model = torch.hub.load('snakers4/silero-vad', 'silero_vad')"
   ]
  },
  {
   "cell_type": "code",
   "execution_count": 59,
   "metadata": {},
   "outputs": [
    {
     "data": {
      "text/plain": [
       "<function silero_vad.utils_vad.read_audio(path: str, sampling_rate: int = 16000)>"
      ]
     },
     "execution_count": 59,
     "metadata": {},
     "output_type": "execute_result"
    }
   ],
   "source": [
    "silero_model[1][2]"
   ]
  },
  {
   "cell_type": "code",
   "execution_count": 90,
   "metadata": {},
   "outputs": [],
   "source": [
    "\n",
    "\n",
    "ub = (len(a1) // 512)*512\n",
    "full = []\n",
    "for i in range(0, len(a1[:ub]), 512):\n",
    "    res = silero_model[0](a1[i:i+512], 16000)\n",
    "    full += [res.detach().numpy()]*512\n",
    "#speech_probs = np.stack(full)"
   ]
  },
  {
   "cell_type": "code",
   "execution_count": 92,
   "metadata": {},
   "outputs": [
    {
     "data": {
      "text/plain": [
       "array([[0.00073406],\n",
       "       [0.00073406],\n",
       "       [0.00073406],\n",
       "       ...,\n",
       "       [0.00127502],\n",
       "       [0.00127502],\n",
       "       [0.00127502]], dtype=float32)"
      ]
     },
     "execution_count": 92,
     "metadata": {},
     "output_type": "execute_result"
    }
   ],
   "source": [
    "np.concatenate(full)"
   ]
  },
  {
   "cell_type": "code",
   "execution_count": 84,
   "metadata": {},
   "outputs": [
    {
     "data": {
      "text/plain": [
       "118"
      ]
     },
     "execution_count": 84,
     "metadata": {},
     "output_type": "execute_result"
    }
   ],
   "source": [
    "len(full)"
   ]
  },
  {
   "cell_type": "markdown",
   "metadata": {},
   "source": [
    "## ffffff\n"
   ]
  },
  {
   "cell_type": "code",
   "execution_count": 40,
   "metadata": {},
   "outputs": [],
   "source": [
    "import pandas  as pd\n",
    "\n",
    "df = pd.read_excel('Volgmed_2013.xlsx')"
   ]
  },
  {
   "cell_type": "code",
   "execution_count": 41,
   "metadata": {},
   "outputs": [],
   "source": [
    "headers = df.iloc[0]\n",
    "data  = pd.DataFrame(df.values[1:], columns=headers)\n"
   ]
  },
  {
   "cell_type": "code",
   "execution_count": 43,
   "metadata": {},
   "outputs": [
    {
     "data": {
      "text/html": [
       "<div>\n",
       "<style scoped>\n",
       "    .dataframe tbody tr th:only-of-type {\n",
       "        vertical-align: middle;\n",
       "    }\n",
       "\n",
       "    .dataframe tbody tr th {\n",
       "        vertical-align: top;\n",
       "    }\n",
       "\n",
       "    .dataframe thead th {\n",
       "        text-align: right;\n",
       "    }\n",
       "</style>\n",
       "<table border=\"1\" class=\"dataframe\">\n",
       "  <thead>\n",
       "    <tr style=\"text-align: right;\">\n",
       "      <th></th>\n",
       "      <th>№ п/п</th>\n",
       "      <th>Пол</th>\n",
       "      <th>Год рождения</th>\n",
       "      <th>Факультет</th>\n",
       "      <th>Курс</th>\n",
       "      <th>Группа</th>\n",
       "      <th>Год поступления</th>\n",
       "      <th>Дата обследования</th>\n",
       "      <th>Рост, см</th>\n",
       "      <th>Вес, кг</th>\n",
       "      <th>...</th>\n",
       "      <th>Гибкость, см</th>\n",
       "      <th>Время 10 хлопков, с</th>\n",
       "      <th>Прыжок в длину с места, см</th>\n",
       "      <th>Челночный бег, с</th>\n",
       "      <th>Силовой норматив, ед</th>\n",
       "      <th>Бег 100 м, с</th>\n",
       "      <th>Бег 2-3 км, мин</th>\n",
       "      <th>Статическая  выносливость, с</th>\n",
       "      <th>Задержка дыхания, с</th>\n",
       "      <th>Равновесие, с</th>\n",
       "    </tr>\n",
       "  </thead>\n",
       "  <tbody>\n",
       "    <tr>\n",
       "      <th>0</th>\n",
       "      <td>104</td>\n",
       "      <td>жен</td>\n",
       "      <td>1981</td>\n",
       "      <td>лечебный</td>\n",
       "      <td>1</td>\n",
       "      <td>NaN</td>\n",
       "      <td>1999</td>\n",
       "      <td>2000-05-01</td>\n",
       "      <td>176</td>\n",
       "      <td>74.5</td>\n",
       "      <td>...</td>\n",
       "      <td>22</td>\n",
       "      <td>6.6</td>\n",
       "      <td>155</td>\n",
       "      <td>26</td>\n",
       "      <td>38</td>\n",
       "      <td>17.7</td>\n",
       "      <td>8.7</td>\n",
       "      <td>140</td>\n",
       "      <td>59</td>\n",
       "      <td>90</td>\n",
       "    </tr>\n",
       "    <tr>\n",
       "      <th>1</th>\n",
       "      <td>104</td>\n",
       "      <td>жен</td>\n",
       "      <td>1981</td>\n",
       "      <td>лечебный</td>\n",
       "      <td>3</td>\n",
       "      <td>NaN</td>\n",
       "      <td>1999</td>\n",
       "      <td>2002-05-01</td>\n",
       "      <td>176</td>\n",
       "      <td>74</td>\n",
       "      <td>...</td>\n",
       "      <td>23</td>\n",
       "      <td>6.5</td>\n",
       "      <td>158</td>\n",
       "      <td>25</td>\n",
       "      <td>47</td>\n",
       "      <td>18.7</td>\n",
       "      <td>6.58</td>\n",
       "      <td>144</td>\n",
       "      <td>68</td>\n",
       "      <td>90</td>\n",
       "    </tr>\n",
       "    <tr>\n",
       "      <th>2</th>\n",
       "      <td>NaN</td>\n",
       "      <td>NaN</td>\n",
       "      <td>NaN</td>\n",
       "      <td>NaN</td>\n",
       "      <td>NaN</td>\n",
       "      <td>NaN</td>\n",
       "      <td>NaN</td>\n",
       "      <td>NaT</td>\n",
       "      <td>NaN</td>\n",
       "      <td>NaN</td>\n",
       "      <td>...</td>\n",
       "      <td>NaN</td>\n",
       "      <td>NaN</td>\n",
       "      <td>NaN</td>\n",
       "      <td>NaN</td>\n",
       "      <td>NaN</td>\n",
       "      <td>NaN</td>\n",
       "      <td>NaN</td>\n",
       "      <td>NaN</td>\n",
       "      <td>NaN</td>\n",
       "      <td>NaN</td>\n",
       "    </tr>\n",
       "  </tbody>\n",
       "</table>\n",
       "<p>3 rows × 28 columns</p>\n",
       "</div>"
      ],
      "text/plain": [
       "0 № п/п  Пол Год рождения Факультет Курс Группа Год поступления  \\\n",
       "0   104  жен         1981  лечебный    1    NaN            1999   \n",
       "1   104  жен         1981  лечебный    3    NaN            1999   \n",
       "2   NaN  NaN          NaN       NaN  NaN    NaN             NaN   \n",
       "\n",
       "0 Дата обследования Рост, см Вес, кг  ... Гибкость, см Время 10 хлопков, с  \\\n",
       "0        2000-05-01      176    74.5  ...           22                 6.6   \n",
       "1        2002-05-01      176      74  ...           23                 6.5   \n",
       "2               NaT      NaN     NaN  ...          NaN                 NaN   \n",
       "\n",
       "0 Прыжок в длину с места, см Челночный бег, с Силовой норматив, ед  \\\n",
       "0                        155               26                   38   \n",
       "1                        158               25                   47   \n",
       "2                        NaN              NaN                  NaN   \n",
       "\n",
       "0 Бег 100 м, с Бег 2-3 км, мин Статическая  выносливость, с  \\\n",
       "0         17.7             8.7                          140   \n",
       "1         18.7            6.58                          144   \n",
       "2          NaN             NaN                          NaN   \n",
       "\n",
       "0 Задержка дыхания, с Равновесие, с  \n",
       "0                  59            90  \n",
       "1                  68            90  \n",
       "2                 NaN           NaN  \n",
       "\n",
       "[3 rows x 28 columns]"
      ]
     },
     "execution_count": 43,
     "metadata": {},
     "output_type": "execute_result"
    }
   ],
   "source": [
    "data.head(3)"
   ]
  },
  {
   "cell_type": "code",
   "execution_count": 108,
   "metadata": {},
   "outputs": [
    {
     "ename": "KeyError",
     "evalue": "'[569] not found in axis'",
     "output_type": "error",
     "traceback": [
      "\u001b[1;31m---------------------------------------------------------------------------\u001b[0m",
      "\u001b[1;31mKeyError\u001b[0m                                  Traceback (most recent call last)",
      "Cell \u001b[1;32mIn[108], line 3\u001b[0m\n\u001b[0;32m      1\u001b[0m data_girls \u001b[38;5;241m=\u001b[39m data[data[\u001b[38;5;124m\"\u001b[39m\u001b[38;5;124mПол\u001b[39m\u001b[38;5;124m\"\u001b[39m] \u001b[38;5;241m==\u001b[39m \u001b[38;5;124m\"\u001b[39m\u001b[38;5;124mжен\u001b[39m\u001b[38;5;124m\"\u001b[39m]\n\u001b[0;32m      2\u001b[0m d2 \u001b[38;5;241m=\u001b[39m data_girls[\u001b[38;5;124m\"\u001b[39m\u001b[38;5;124mРост, см\u001b[39m\u001b[38;5;124m\"\u001b[39m]\n\u001b[1;32m----> 3\u001b[0m d2 \u001b[38;5;241m=\u001b[39m \u001b[43md2\u001b[49m\u001b[38;5;241;43m.\u001b[39;49m\u001b[43mdrop\u001b[49m\u001b[43m(\u001b[49m\u001b[43m[\u001b[49m\u001b[38;5;241;43m569\u001b[39;49m\u001b[43m]\u001b[49m\u001b[43m)\u001b[49m\n",
      "File \u001b[1;32mc:\\Users\\Bogdan\\AppData\\Local\\Programs\\Python\\Python311\\Lib\\site-packages\\pandas\\core\\series.py:5356\u001b[0m, in \u001b[0;36mSeries.drop\u001b[1;34m(self, labels, axis, index, columns, level, inplace, errors)\u001b[0m\n\u001b[0;32m   5259\u001b[0m \u001b[38;5;28;01mdef\u001b[39;00m \u001b[38;5;21mdrop\u001b[39m(\n\u001b[0;32m   5260\u001b[0m     \u001b[38;5;28mself\u001b[39m,\n\u001b[0;32m   5261\u001b[0m     labels: IndexLabel \u001b[38;5;241m|\u001b[39m \u001b[38;5;28;01mNone\u001b[39;00m \u001b[38;5;241m=\u001b[39m \u001b[38;5;28;01mNone\u001b[39;00m,\n\u001b[1;32m   (...)\u001b[0m\n\u001b[0;32m   5268\u001b[0m     errors: IgnoreRaise \u001b[38;5;241m=\u001b[39m \u001b[38;5;124m\"\u001b[39m\u001b[38;5;124mraise\u001b[39m\u001b[38;5;124m\"\u001b[39m,\n\u001b[0;32m   5269\u001b[0m ) \u001b[38;5;241m-\u001b[39m\u001b[38;5;241m>\u001b[39m Series \u001b[38;5;241m|\u001b[39m \u001b[38;5;28;01mNone\u001b[39;00m:\n\u001b[0;32m   5270\u001b[0m \u001b[38;5;250m    \u001b[39m\u001b[38;5;124;03m\"\"\"\u001b[39;00m\n\u001b[0;32m   5271\u001b[0m \u001b[38;5;124;03m    Return Series with specified index labels removed.\u001b[39;00m\n\u001b[0;32m   5272\u001b[0m \n\u001b[1;32m   (...)\u001b[0m\n\u001b[0;32m   5354\u001b[0m \u001b[38;5;124;03m    dtype: float64\u001b[39;00m\n\u001b[0;32m   5355\u001b[0m \u001b[38;5;124;03m    \"\"\"\u001b[39;00m\n\u001b[1;32m-> 5356\u001b[0m     \u001b[38;5;28;01mreturn\u001b[39;00m \u001b[38;5;28;43msuper\u001b[39;49m\u001b[43m(\u001b[49m\u001b[43m)\u001b[49m\u001b[38;5;241;43m.\u001b[39;49m\u001b[43mdrop\u001b[49m\u001b[43m(\u001b[49m\n\u001b[0;32m   5357\u001b[0m \u001b[43m        \u001b[49m\u001b[43mlabels\u001b[49m\u001b[38;5;241;43m=\u001b[39;49m\u001b[43mlabels\u001b[49m\u001b[43m,\u001b[49m\n\u001b[0;32m   5358\u001b[0m \u001b[43m        \u001b[49m\u001b[43maxis\u001b[49m\u001b[38;5;241;43m=\u001b[39;49m\u001b[43maxis\u001b[49m\u001b[43m,\u001b[49m\n\u001b[0;32m   5359\u001b[0m \u001b[43m        \u001b[49m\u001b[43mindex\u001b[49m\u001b[38;5;241;43m=\u001b[39;49m\u001b[43mindex\u001b[49m\u001b[43m,\u001b[49m\n\u001b[0;32m   5360\u001b[0m \u001b[43m        \u001b[49m\u001b[43mcolumns\u001b[49m\u001b[38;5;241;43m=\u001b[39;49m\u001b[43mcolumns\u001b[49m\u001b[43m,\u001b[49m\n\u001b[0;32m   5361\u001b[0m \u001b[43m        \u001b[49m\u001b[43mlevel\u001b[49m\u001b[38;5;241;43m=\u001b[39;49m\u001b[43mlevel\u001b[49m\u001b[43m,\u001b[49m\n\u001b[0;32m   5362\u001b[0m \u001b[43m        \u001b[49m\u001b[43minplace\u001b[49m\u001b[38;5;241;43m=\u001b[39;49m\u001b[43minplace\u001b[49m\u001b[43m,\u001b[49m\n\u001b[0;32m   5363\u001b[0m \u001b[43m        \u001b[49m\u001b[43merrors\u001b[49m\u001b[38;5;241;43m=\u001b[39;49m\u001b[43merrors\u001b[49m\u001b[43m,\u001b[49m\n\u001b[0;32m   5364\u001b[0m \u001b[43m    \u001b[49m\u001b[43m)\u001b[49m\n",
      "File \u001b[1;32mc:\\Users\\Bogdan\\AppData\\Local\\Programs\\Python\\Python311\\Lib\\site-packages\\pandas\\core\\generic.py:4788\u001b[0m, in \u001b[0;36mNDFrame.drop\u001b[1;34m(self, labels, axis, index, columns, level, inplace, errors)\u001b[0m\n\u001b[0;32m   4786\u001b[0m \u001b[38;5;28;01mfor\u001b[39;00m axis, labels \u001b[38;5;129;01min\u001b[39;00m axes\u001b[38;5;241m.\u001b[39mitems():\n\u001b[0;32m   4787\u001b[0m     \u001b[38;5;28;01mif\u001b[39;00m labels \u001b[38;5;129;01mis\u001b[39;00m \u001b[38;5;129;01mnot\u001b[39;00m \u001b[38;5;28;01mNone\u001b[39;00m:\n\u001b[1;32m-> 4788\u001b[0m         obj \u001b[38;5;241m=\u001b[39m \u001b[43mobj\u001b[49m\u001b[38;5;241;43m.\u001b[39;49m\u001b[43m_drop_axis\u001b[49m\u001b[43m(\u001b[49m\u001b[43mlabels\u001b[49m\u001b[43m,\u001b[49m\u001b[43m \u001b[49m\u001b[43maxis\u001b[49m\u001b[43m,\u001b[49m\u001b[43m \u001b[49m\u001b[43mlevel\u001b[49m\u001b[38;5;241;43m=\u001b[39;49m\u001b[43mlevel\u001b[49m\u001b[43m,\u001b[49m\u001b[43m \u001b[49m\u001b[43merrors\u001b[49m\u001b[38;5;241;43m=\u001b[39;49m\u001b[43merrors\u001b[49m\u001b[43m)\u001b[49m\n\u001b[0;32m   4790\u001b[0m \u001b[38;5;28;01mif\u001b[39;00m inplace:\n\u001b[0;32m   4791\u001b[0m     \u001b[38;5;28mself\u001b[39m\u001b[38;5;241m.\u001b[39m_update_inplace(obj)\n",
      "File \u001b[1;32mc:\\Users\\Bogdan\\AppData\\Local\\Programs\\Python\\Python311\\Lib\\site-packages\\pandas\\core\\generic.py:4830\u001b[0m, in \u001b[0;36mNDFrame._drop_axis\u001b[1;34m(self, labels, axis, level, errors, only_slice)\u001b[0m\n\u001b[0;32m   4828\u001b[0m         new_axis \u001b[38;5;241m=\u001b[39m axis\u001b[38;5;241m.\u001b[39mdrop(labels, level\u001b[38;5;241m=\u001b[39mlevel, errors\u001b[38;5;241m=\u001b[39merrors)\n\u001b[0;32m   4829\u001b[0m     \u001b[38;5;28;01melse\u001b[39;00m:\n\u001b[1;32m-> 4830\u001b[0m         new_axis \u001b[38;5;241m=\u001b[39m \u001b[43maxis\u001b[49m\u001b[38;5;241;43m.\u001b[39;49m\u001b[43mdrop\u001b[49m\u001b[43m(\u001b[49m\u001b[43mlabels\u001b[49m\u001b[43m,\u001b[49m\u001b[43m \u001b[49m\u001b[43merrors\u001b[49m\u001b[38;5;241;43m=\u001b[39;49m\u001b[43merrors\u001b[49m\u001b[43m)\u001b[49m\n\u001b[0;32m   4831\u001b[0m     indexer \u001b[38;5;241m=\u001b[39m axis\u001b[38;5;241m.\u001b[39mget_indexer(new_axis)\n\u001b[0;32m   4833\u001b[0m \u001b[38;5;66;03m# Case for non-unique axis\u001b[39;00m\n\u001b[0;32m   4834\u001b[0m \u001b[38;5;28;01melse\u001b[39;00m:\n",
      "File \u001b[1;32mc:\\Users\\Bogdan\\AppData\\Local\\Programs\\Python\\Python311\\Lib\\site-packages\\pandas\\core\\indexes\\base.py:7070\u001b[0m, in \u001b[0;36mIndex.drop\u001b[1;34m(self, labels, errors)\u001b[0m\n\u001b[0;32m   7068\u001b[0m \u001b[38;5;28;01mif\u001b[39;00m mask\u001b[38;5;241m.\u001b[39many():\n\u001b[0;32m   7069\u001b[0m     \u001b[38;5;28;01mif\u001b[39;00m errors \u001b[38;5;241m!=\u001b[39m \u001b[38;5;124m\"\u001b[39m\u001b[38;5;124mignore\u001b[39m\u001b[38;5;124m\"\u001b[39m:\n\u001b[1;32m-> 7070\u001b[0m         \u001b[38;5;28;01mraise\u001b[39;00m \u001b[38;5;167;01mKeyError\u001b[39;00m(\u001b[38;5;124mf\u001b[39m\u001b[38;5;124m\"\u001b[39m\u001b[38;5;132;01m{\u001b[39;00mlabels[mask]\u001b[38;5;241m.\u001b[39mtolist()\u001b[38;5;132;01m}\u001b[39;00m\u001b[38;5;124m not found in axis\u001b[39m\u001b[38;5;124m\"\u001b[39m)\n\u001b[0;32m   7071\u001b[0m     indexer \u001b[38;5;241m=\u001b[39m indexer[\u001b[38;5;241m~\u001b[39mmask]\n\u001b[0;32m   7072\u001b[0m \u001b[38;5;28;01mreturn\u001b[39;00m \u001b[38;5;28mself\u001b[39m\u001b[38;5;241m.\u001b[39mdelete(indexer)\n",
      "\u001b[1;31mKeyError\u001b[0m: '[569] not found in axis'"
     ]
    }
   ],
   "source": [
    "data_girls = data[data[\"Пол\"] == \"жен\"]\n",
    "d2 = data_girls[\"Рост, см\"]\n",
    "d2 = d2.drop([569])"
   ]
  },
  {
   "cell_type": "code",
   "execution_count": 107,
   "metadata": {},
   "outputs": [
    {
     "ename": "TypeError",
     "evalue": "argument of type 'int' is not iterable",
     "output_type": "error",
     "traceback": [
      "\u001b[1;31m---------------------------------------------------------------------------\u001b[0m",
      "\u001b[1;31mTypeError\u001b[0m                                 Traceback (most recent call last)",
      "Cell \u001b[1;32mIn[107], line 2\u001b[0m\n\u001b[0;32m      1\u001b[0m \u001b[38;5;28;01mfor\u001b[39;00m i, d \u001b[38;5;129;01min\u001b[39;00m \u001b[38;5;28menumerate\u001b[39m(data_girls[\u001b[38;5;124m\"\u001b[39m\u001b[38;5;124mРост, см\u001b[39m\u001b[38;5;124m\"\u001b[39m]):\n\u001b[1;32m----> 2\u001b[0m     \u001b[38;5;28;01mif\u001b[39;00m \u001b[38;5;124;43m'\u001b[39;49m\u001b[38;5;124;43mосв\u001b[39;49m\u001b[38;5;124;43m'\u001b[39;49m\u001b[43m \u001b[49m\u001b[38;5;129;43;01min\u001b[39;49;00m\u001b[43m \u001b[49m\u001b[43md\u001b[49m:\n\u001b[0;32m      3\u001b[0m         \u001b[38;5;28mprint\u001b[39m(i)\n",
      "\u001b[1;31mTypeError\u001b[0m: argument of type 'int' is not iterable"
     ]
    }
   ],
   "source": [
    "for i, d in enumerate(data_girls[\"Рост, см\"]):\n",
    "    if 'осв' in d:\n",
    "        print(i)"
   ]
  }
 ],
 "metadata": {
  "kernelspec": {
   "display_name": "Python 3",
   "language": "python",
   "name": "python3"
  },
  "language_info": {
   "codemirror_mode": {
    "name": "ipython",
    "version": 3
   },
   "file_extension": ".py",
   "mimetype": "text/x-python",
   "name": "python",
   "nbconvert_exporter": "python",
   "pygments_lexer": "ipython3",
   "version": "3.11.4"
  }
 },
 "nbformat": 4,
 "nbformat_minor": 2
}
